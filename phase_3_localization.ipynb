{
  "nbformat": 4,
  "nbformat_minor": 0,
  "metadata": {
    "colab": {
      "provenance": [],
      "include_colab_link": true
    },
    "kernelspec": {
      "name": "python3",
      "display_name": "Python 3"
    },
    "language_info": {
      "name": "python"
    }
  },
  "cells": [
    {
      "cell_type": "markdown",
      "metadata": {
        "id": "view-in-github",
        "colab_type": "text"
      },
      "source": [
        "<a href=\"https://colab.research.google.com/github/vignesh-0510/SolarFlareExplainableWindowDetection/blob/main/phase_3_localization.ipynb\" target=\"_parent\"><img src=\"https://colab.research.google.com/assets/colab-badge.svg\" alt=\"Open In Colab\"/></a>"
      ]
    },
    {
      "cell_type": "code",
      "source": [
        "!pip install shap imbalanced-learn"
      ],
      "metadata": {
        "id": "ighjdzonVyNA",
        "colab": {
          "base_uri": "https://localhost:8080/"
        },
        "outputId": "9b352af0-2652-4c68-e6ec-1c8569f91bcd"
      },
      "execution_count": 1,
      "outputs": [
        {
          "output_type": "stream",
          "name": "stdout",
          "text": [
            "Requirement already satisfied: shap in /usr/local/lib/python3.11/dist-packages (0.47.1)\n",
            "Requirement already satisfied: imbalanced-learn in /usr/local/lib/python3.11/dist-packages (0.13.0)\n",
            "Requirement already satisfied: numpy in /usr/local/lib/python3.11/dist-packages (from shap) (2.0.2)\n",
            "Requirement already satisfied: scipy in /usr/local/lib/python3.11/dist-packages (from shap) (1.14.1)\n",
            "Requirement already satisfied: scikit-learn in /usr/local/lib/python3.11/dist-packages (from shap) (1.6.1)\n",
            "Requirement already satisfied: pandas in /usr/local/lib/python3.11/dist-packages (from shap) (2.2.2)\n",
            "Requirement already satisfied: tqdm>=4.27.0 in /usr/local/lib/python3.11/dist-packages (from shap) (4.67.1)\n",
            "Requirement already satisfied: packaging>20.9 in /usr/local/lib/python3.11/dist-packages (from shap) (24.2)\n",
            "Requirement already satisfied: slicer==0.0.8 in /usr/local/lib/python3.11/dist-packages (from shap) (0.0.8)\n",
            "Requirement already satisfied: numba>=0.54 in /usr/local/lib/python3.11/dist-packages (from shap) (0.60.0)\n",
            "Requirement already satisfied: cloudpickle in /usr/local/lib/python3.11/dist-packages (from shap) (3.1.1)\n",
            "Requirement already satisfied: typing-extensions in /usr/local/lib/python3.11/dist-packages (from shap) (4.13.2)\n",
            "Requirement already satisfied: sklearn-compat<1,>=0.1 in /usr/local/lib/python3.11/dist-packages (from imbalanced-learn) (0.1.3)\n",
            "Requirement already satisfied: joblib<2,>=1.1.1 in /usr/local/lib/python3.11/dist-packages (from imbalanced-learn) (1.4.2)\n",
            "Requirement already satisfied: threadpoolctl<4,>=2.0.0 in /usr/local/lib/python3.11/dist-packages (from imbalanced-learn) (3.6.0)\n",
            "Requirement already satisfied: llvmlite<0.44,>=0.43.0dev0 in /usr/local/lib/python3.11/dist-packages (from numba>=0.54->shap) (0.43.0)\n",
            "Requirement already satisfied: python-dateutil>=2.8.2 in /usr/local/lib/python3.11/dist-packages (from pandas->shap) (2.8.2)\n",
            "Requirement already satisfied: pytz>=2020.1 in /usr/local/lib/python3.11/dist-packages (from pandas->shap) (2025.2)\n",
            "Requirement already satisfied: tzdata>=2022.7 in /usr/local/lib/python3.11/dist-packages (from pandas->shap) (2025.2)\n",
            "Requirement already satisfied: six>=1.5 in /usr/local/lib/python3.11/dist-packages (from python-dateutil>=2.8.2->pandas->shap) (1.17.0)\n"
          ]
        }
      ]
    },
    {
      "cell_type": "code",
      "execution_count": 2,
      "metadata": {
        "id": "hcvsFo7rVnS3"
      },
      "outputs": [],
      "source": [
        "from sklearn.ensemble import RandomForestClassifier\n",
        "from sklearn.tree import DecisionTreeClassifier\n",
        "from imblearn.ensemble import EasyEnsembleClassifier, BalancedRandomForestClassifier\n",
        "from sklearn.metrics import confusion_matrix, classification_report, accuracy_score, f1_score, precision_score, recall_score, balanced_accuracy_score, jaccard_score\n",
        "from imblearn.metrics import geometric_mean_score\n",
        "from sklearn.model_selection import train_test_split\n",
        "import pandas as pd\n",
        "import numpy as np\n",
        "import matplotlib.pyplot as plt\n",
        "import seaborn as sns\n",
        "import os\n",
        "import torch\n",
        "import tqdm\n",
        "import pickle\n",
        "from collections import deque"
      ]
    },
    {
      "cell_type": "code",
      "source": [
        "from google.colab import drive\n",
        "drive.mount('/content/drive')"
      ],
      "metadata": {
        "colab": {
          "base_uri": "https://localhost:8080/"
        },
        "id": "R5u6RTqe-cu1",
        "outputId": "549f6ecb-8491-420b-f442-34fa6a707b97"
      },
      "execution_count": 3,
      "outputs": [
        {
          "output_type": "stream",
          "name": "stdout",
          "text": [
            "Mounted at /content/drive\n"
          ]
        }
      ]
    },
    {
      "cell_type": "code",
      "source": [],
      "metadata": {
        "id": "NYcfNT2U-wbt"
      },
      "execution_count": 4,
      "outputs": []
    },
    {
      "cell_type": "code",
      "source": [
        "def extract_start_end_time(filename):\n",
        "  \"\"\"Extracts start and end time from a filename string.\n",
        "\n",
        "  Args:\n",
        "    filename: The filename string in the format\n",
        "      'FQ_ar146_s2010-08-29T17:12:00_e2010-08-30T05:00:00.csv'.\n",
        "\n",
        "  Returns:\n",
        "    A tuple containing the start time and end time strings, or None if the\n",
        "    filename does not match the expected format.\n",
        "  \"\"\"\n",
        "  try:\n",
        "    parts = filename.split('_')\n",
        "    start_time_part = parts[2][1:]  # Remove 's' prefix\n",
        "    end_time_part = parts[3][1:]   # Remove 'e' prefix\n",
        "    return start_time_part, end_time_part\n",
        "  except IndexError:\n",
        "    return None, None\n",
        "\n",
        "def process_filename(file_path):\n",
        "  file_dict = {}\n",
        "  filename = os.path.basename(file_path).split('.csv')[0]\n",
        "  file_dict['filename'] = filename\n",
        "  category = ''\n",
        "  if filename[:2] == 'FQ':\n",
        "    category = 'FQ'\n",
        "    sub_category = 'NA'\n",
        "  else:\n",
        "    category = filename[0]\n",
        "    sub_category = filename.split('@')[0][1:]\n",
        "  file_dict['category'] = category\n",
        "  if category in ('FQ', 'A', 'B', 'C'):\n",
        "    file_dict['class'] = 'NF'\n",
        "  else:\n",
        "    file_dict['class'] = 'FL'\n",
        "\n",
        "  file_dict['sub_category'] = sub_category\n",
        "  start_time, end_time = extract_start_end_time(filename)\n",
        "  file_dict['start_time'] = start_time\n",
        "  file_dict['end_time'] = end_time\n",
        "  return file_dict\n",
        "\n",
        "def min_max_scaling(data, min_val, max_val):\n",
        "  norm_data = (data - min_val) / (max_val - min_val)\n",
        "  return norm_data\n",
        "\n",
        "def process_file(df, interacting_columns, meta_dict, file_info, frequency_modes= 10):\n",
        "  modes = frequency_modes // 2\n",
        "  data_arr = np.zeros((frequency_modes*len(interacting_columns),1))\n",
        "\n",
        "  data_col_list = []\n",
        "  for i, col in enumerate(interacting_columns):\n",
        "    y = df[col].values\n",
        "    y = min_max_scaling(y, meta_dict[col]['min'], meta_dict[col]['max'])\n",
        "\n",
        "    y_f = torch.fft.rfft(torch.tensor(y))\n",
        "    y_f = torch.cat((y_f[:modes], y_f[-modes:]))\n",
        "    data_col_list.extend([f'{col}_real_{c}' for c in range(frequency_modes)])\n",
        "    data_arr[i*frequency_modes: (i+1)*frequency_modes,0] = torch.real(y_f).numpy()\n",
        "  result_df = pd.DataFrame(data_arr.T, columns=data_col_list)\n",
        "  result_df['class'] = file_info['class']\n",
        "  return result_df\n",
        "\n",
        "\n"
      ],
      "metadata": {
        "id": "WfF_YK70WyNI"
      },
      "execution_count": 86,
      "outputs": []
    },
    {
      "cell_type": "code",
      "source": [
        "file_path = '/content/M1.0@10065:Primary_ar5298_s2015-03-14T09:24:00_e2015-03-14T21:12:00.csv'\n",
        "model = None\n",
        "meta_dict = None\n",
        "\n",
        "with open('/content/drive/MyDrive/ADM/results/part_123/rf_clf.pkl', 'rb') as f:\n",
        "  model = pickle.load(f)\n",
        "\n",
        "with open('/content/drive/MyDrive/ADM/partition1/swan-sf-metadata.pkl', 'rb') as f:\n",
        "  meta_dict = pickle.load(f)\n",
        "\n",
        "interacting_columns = ['TOTUSJH', 'TOTPOT', 'TOTUSJZ']\n",
        "file_info = process_filename(file_path)\n",
        "instance_df = pd.read_csv(file_path, sep='\\t', usecols=interacting_columns)"
      ],
      "metadata": {
        "id": "w-Xg31D4V6RY"
      },
      "execution_count": 70,
      "outputs": []
    },
    {
      "cell_type": "code",
      "source": [
        "class Node:\n",
        "  def __init__(self, start=None, size=None, confidence=None, parent=None):\n",
        "    self.window_start = start\n",
        "    self.window_size = size\n",
        "    self.window_end = start + size\n",
        "    self.confidence = confidence\n",
        "    self.parent = parent"
      ],
      "metadata": {
        "id": "UFmDKfK2fPn0"
      },
      "execution_count": 89,
      "outputs": []
    },
    {
      "cell_type": "code",
      "source": [
        "window_start = 0\n",
        "window_size = instance_df.shape[0]\n",
        "# window_size = 60\n",
        "# step_size = window_size // 10\n",
        "step_size = 10\n",
        "\n",
        "freq_modes = 10\n"
      ],
      "metadata": {
        "id": "5yJQ2crPWD8Z"
      },
      "execution_count": 125,
      "outputs": []
    },
    {
      "cell_type": "code",
      "source": [
        "def run_analysis(df,interacting_columns, model, file_info,freq_modes = 10):\n",
        "\n",
        "  freq_df = process_file(df, interacting_columns, meta_dict, file_info, freq_modes)\n",
        "  X_df = freq_df[[col for col in freq_df.columns if col != 'class']]\n",
        "  y_df = freq_df['class']\n",
        "  c = model.predict_proba(X_df)\n",
        "  # print(f'confidence of FL: {c[0,0]}')\n",
        "  # print(f'normalized_conf {1-(c[0] - y_df[\"class\"].values)}')\n",
        "  return c[0][0]"
      ],
      "metadata": {
        "id": "7Ob1fHdKY6vN"
      },
      "execution_count": 122,
      "outputs": []
    },
    {
      "cell_type": "code",
      "source": [
        "def run_tail_chopping_algorithm():\n",
        "  parent_window_start = 0\n",
        "  parent_window_size = window_size\n",
        "  parent_conf = None\n",
        "\n",
        "  q = deque()\n",
        "  aux_q = deque()\n",
        "  root = Node(parent_window_start, parent_window_size, parent_conf, None)\n",
        "  q.append(root)\n",
        "  q.append(None)\n",
        "  q_has_changed = False\n",
        "\n",
        "  while len(q)>=1:\n",
        "\n",
        "    cur = q.popleft()\n",
        "\n",
        "    if cur is None:\n",
        "      if q_has_changed:\n",
        "        q_has_changed = False\n",
        "        aux_q.clear()\n",
        "        q.append(None)\n",
        "        continue\n",
        "      else:\n",
        "        break\n",
        "\n",
        "    if cur.confidence is None:\n",
        "      parent_conf = run_analysis(instance_df,interacting_columns, model, file_info)\n",
        "      cur.confidence = parent_conf\n",
        "      root = cur\n",
        "\n",
        "    child_1_start = cur.window_start\n",
        "    child_2_start = cur.window_start + step_size\n",
        "    child_window_size = cur.window_size - step_size\n",
        "\n",
        "    child_1_df = instance_df.iloc[child_1_start:child_1_start + child_window_size]\n",
        "    child_2_df = instance_df.iloc[child_2_start:child_2_start + child_window_size]\n",
        "\n",
        "    child_1_conf = run_analysis(child_1_df,interacting_columns, model, file_info)\n",
        "    child_2_conf = run_analysis(child_2_df,interacting_columns, model, file_info)\n",
        "    print(f'parent_conf[{cur.window_start}-{cur.window_end}]: {cur.confidence}, child_1_confidence[{child_1_start}-{child_1_start + child_window_size}]: {child_1_conf}, child_2_conficence[{child_2_start}-{child_2_start + child_window_size}]: {child_2_conf}')\n",
        "    if child_1_conf > child_2_conf and child_1_conf >= parent_conf:\n",
        "      q_has_changed = True\n",
        "      q.append(Node(child_1_start, child_window_size, child_1_conf, cur))\n",
        "\n",
        "    elif child_2_conf > child_1_conf and child_2_conf >= parent_conf:\n",
        "      q_has_changed = True\n",
        "      q.append(Node(child_2_start, child_window_size, child_2_conf, cur))\n",
        "\n",
        "    elif child_1_conf == child_2_conf and child_1_conf >= parent_conf:\n",
        "      q_has_changed = True\n",
        "      q.append(Node(child_1_start, child_window_size, child_1_conf, cur))\n",
        "      q.append(Node(child_2_start, child_window_size, child_2_conf, cur))\n",
        "\n",
        "    elif parent_conf > child_1_conf and parent_conf > child_2_conf:\n",
        "      aux_q.append(cur)\n",
        "    else:\n",
        "      print(f'parent: {parent_conf}, child 1: {child_1_conf}, child 2: {child_2_conf}')\n",
        "      break\n",
        "\n",
        "  max_confidence = -1\n",
        "  max_node = root\n",
        "  while len(aux_q) > 0:\n",
        "    cur = aux_q.popleft()\n",
        "    if cur.confidence > max_confidence:\n",
        "      max_confidence = cur.confidence\n",
        "      max_node = cur\n",
        "  print(f'Localized window start: {max_node.window_start}, end: {max_node.window_start + max_node.window_size}, confidence: {max_confidence}')\n",
        "  return max_node.window_start, max_node.window_size, max_confidence"
      ],
      "metadata": {
        "id": "rmjWf_BeWD5z"
      },
      "execution_count": 126,
      "outputs": []
    },
    {
      "cell_type": "code",
      "source": [
        "window_start, window_size, confidence = run_tail_chopping_algorithm()"
      ],
      "metadata": {
        "id": "f54xLEQDWD27",
        "colab": {
          "base_uri": "https://localhost:8080/"
        },
        "outputId": "d09172fa-b706-4f02-eae9-8b57e2b6ed16"
      },
      "execution_count": 127,
      "outputs": [
        {
          "output_type": "stream",
          "name": "stdout",
          "text": [
            "parent_conf[0-60]: 0.7771713436938831, child_1_confidence[0-50]: 0.7371419836543659, child_2_conficence[10-60]: 0.7961788188666321\n",
            "parent_conf[10-60]: 0.7961788188666321, child_1_confidence[10-50]: 0.7023399253295465, child_2_conficence[20-60]: 0.7524948527677786\n",
            "Localized window start: 10, end: 60, confidence: 0.7961788188666321\n"
          ]
        }
      ]
    },
    {
      "cell_type": "code",
      "source": [],
      "metadata": {
        "id": "9D4xltSAWD0U"
      },
      "execution_count": 93,
      "outputs": []
    },
    {
      "cell_type": "code",
      "source": [],
      "metadata": {
        "id": "e0TCrqMWWDxd"
      },
      "execution_count": 93,
      "outputs": []
    },
    {
      "cell_type": "code",
      "source": [],
      "metadata": {
        "id": "NEYGYz0sMvox"
      },
      "execution_count": 93,
      "outputs": []
    },
    {
      "cell_type": "code",
      "source": [],
      "metadata": {
        "id": "wO-er2C8WDuW"
      },
      "execution_count": 93,
      "outputs": []
    },
    {
      "cell_type": "code",
      "source": [],
      "metadata": {
        "id": "ZloWDw-wGDNX"
      },
      "execution_count": null,
      "outputs": []
    }
  ]
}