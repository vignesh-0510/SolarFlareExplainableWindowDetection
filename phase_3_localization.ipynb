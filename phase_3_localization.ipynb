{
  "nbformat": 4,
  "nbformat_minor": 0,
  "metadata": {
    "colab": {
      "provenance": [],
      "include_colab_link": true
    },
    "kernelspec": {
      "name": "python3",
      "display_name": "Python 3"
    },
    "language_info": {
      "name": "python"
    }
  },
  "cells": [
    {
      "cell_type": "markdown",
      "metadata": {
        "id": "view-in-github",
        "colab_type": "text"
      },
      "source": [
        "<a href=\"https://colab.research.google.com/github/vignesh-0510/SolarFlareExplainableWindowDetection/blob/main/phase_3_localization.ipynb\" target=\"_parent\"><img src=\"https://colab.research.google.com/assets/colab-badge.svg\" alt=\"Open In Colab\"/></a>"
      ]
    },
    {
      "cell_type": "code",
      "source": [
        "!pip install shap imbalanced-learn"
      ],
      "metadata": {
        "id": "ighjdzonVyNA"
      },
      "execution_count": null,
      "outputs": []
    },
    {
      "cell_type": "code",
      "execution_count": 1,
      "metadata": {
        "id": "hcvsFo7rVnS3"
      },
      "outputs": [],
      "source": [
        "from sklearn.ensemble import RandomForestClassifier\n",
        "from sklearn.tree import DecisionTreeClassifier\n",
        "from imblearn.ensemble import EasyEnsembleClassifier, BalancedRandomForestClassifier\n",
        "from sklearn.metrics import confusion_matrix, classification_report, accuracy_score, f1_score, precision_score, recall_score, balanced_accuracy_score, jaccard_score\n",
        "from imblearn.metrics import geometric_mean_score\n",
        "from sklearn.model_selection import train_test_split\n",
        "import pandas as pd\n",
        "import numpy as np\n",
        "import matplotlib.pyplot as plt\n",
        "import seaborn as sns\n",
        "import os\n",
        "import torch\n",
        "import tqdm\n",
        "import pickle\n",
        "from collections import deque"
      ]
    },
    {
      "cell_type": "code",
      "source": [
        "def extract_start_end_time(filename):\n",
        "  \"\"\"Extracts start and end time from a filename string.\n",
        "\n",
        "  Args:\n",
        "    filename: The filename string in the format\n",
        "      'FQ_ar146_s2010-08-29T17:12:00_e2010-08-30T05:00:00.csv'.\n",
        "\n",
        "  Returns:\n",
        "    A tuple containing the start time and end time strings, or None if the\n",
        "    filename does not match the expected format.\n",
        "  \"\"\"\n",
        "  try:\n",
        "    parts = filename.split('_')\n",
        "    start_time_part = parts[2][1:]  # Remove 's' prefix\n",
        "    end_time_part = parts[3][1:]   # Remove 'e' prefix\n",
        "    return start_time_part, end_time_part\n",
        "  except IndexError:\n",
        "    return None, None\n",
        "\n",
        "def process_file(filepath, interacting_columns, meta_dict, frequency_modes= 10):\n",
        "  modes = frequency_modes // 2\n",
        "  data_arr = np.zeros((frequecy_modes*len(interacting_columns)))\n",
        "  data_col_list = []\n",
        "  for i, col in enumerate(interacting_columns):\n",
        "    y = df[col].values\n",
        "    y_f = torch.fft.rfft(torch.tensor(y))\n",
        "    y_f = torch.cat((y_f[:modes], y_f[-modes:]))\n",
        "    data_col_list.extend([f'{col}_real_{c}' for c in range(frequency_modes)])\n",
        "    data_arr[i*frequency_modes: (i+1)*frequency_modes] = torch.real(y_f).numpy()\n",
        "  result_df = pd.DataFrame.fromarray(data_arr, columns=data_col_list)\n",
        "  return result_df\n",
        "\n"
      ],
      "metadata": {
        "id": "WfF_YK70WyNI"
      },
      "execution_count": null,
      "outputs": []
    },
    {
      "cell_type": "code",
      "source": [
        "file_name = ''\n",
        "model = None\n",
        "interacting_columns = ['USFLUX', 'R_VALUE', 'TOTBSQ']\n",
        "\n",
        "start_time, end_time = extract_start_end_time(file_name)\n",
        "df = pd.read_csv(filepath, sep='\\t', usecols=interacting_columns)"
      ],
      "metadata": {
        "id": "w-Xg31D4V6RY"
      },
      "execution_count": null,
      "outputs": []
    },
    {
      "cell_type": "code",
      "source": [
        "class Node:\n",
        "  def __init__(self, start=None, size=None, confidence=None, parent=None):\n",
        "    self.window_start = start\n",
        "    self.window_size = size\n",
        "    self.window_end = start + size\n",
        "    self.confidence = confidence\n",
        "    self.parent = parent"
      ],
      "metadata": {
        "id": "UFmDKfK2fPn0"
      },
      "execution_count": null,
      "outputs": []
    },
    {
      "cell_type": "code",
      "source": [
        "window_start = 0\n",
        "window_size = df.shape[0]\n",
        "step_size = window_size // 10\n",
        "\n",
        "freq_modes = 10\n"
      ],
      "metadata": {
        "id": "5yJQ2crPWD8Z"
      },
      "execution_count": null,
      "outputs": []
    },
    {
      "cell_type": "code",
      "source": [
        "def run_analysis(df):\n",
        "  freq_df = process_file(df, interacting_columns, freq_modes)\n",
        "  c = model.predict_proba(freq_df)\n",
        "  print(f'confidence: {c}')\n",
        "  print(f'normalized_conf {1-(c[0] - df['class'].values)}')\n",
        "  return c[0]"
      ],
      "metadata": {
        "id": "7Ob1fHdKY6vN"
      },
      "execution_count": null,
      "outputs": []
    },
    {
      "cell_type": "code",
      "source": [
        "parent_window_start = 0\n",
        "parent_window_size = window_size\n",
        "parent_conf = None\n",
        "\n",
        "q = deque()\n",
        "aux_q = deque()\n",
        "\n",
        "q.append(Node(parent_window_start, parent_window_size, parent_conf, None))\n",
        "while parent_window_size >= freq_modes:\n",
        "  if parent_conf is None:\n",
        "    parent_conf = run_analysis(df)\n",
        "    continue\n",
        "\n",
        "  child_1_start = parent_window_start\n",
        "  child_2_start = parent_window_start + step_size\n",
        "  child_window_size = parent_window_size - step_size\n",
        "\n",
        "  child_1_df = df.iloc[child_1_start:child_1_start + child_window_size]\n",
        "  child_2_df = df.iloc[child_2_start:child_2_start + child_window_size]\n",
        "\n",
        "  child_1_conf = run_analysis(child_1_df)\n",
        "  child_2_conf = run_analysis(child_2_df)\n",
        "\n",
        "  if child_1_conf > child_2_conf and child_1_conf >= parent_conf:\n",
        "    parent_window_start = child_1_start\n",
        "    parent_window_size = child_window_size\n",
        "    parent_conf = child_1_conf\n",
        "  elif child_2_conf >= child_1_conf and child_2_conf >= parent_conf:\n",
        "    parent_window_start = child_2_start\n",
        "    parent_window_size = child_window_size\n",
        "    parent_conf = child_2_conf\n",
        "  elif parent_conf > child_1_conf and parent_conf > child_2_conf:\n",
        "    break\n",
        "  else:\n",
        "    print(f'parent: {parent_conf}, child 1: {child_1_conf}, child 2: {child_2_conf}')\n",
        "    break"
      ],
      "metadata": {
        "id": "rmjWf_BeWD5z"
      },
      "execution_count": null,
      "outputs": []
    },
    {
      "cell_type": "code",
      "source": [],
      "metadata": {
        "id": "f54xLEQDWD27"
      },
      "execution_count": null,
      "outputs": []
    },
    {
      "cell_type": "code",
      "source": [],
      "metadata": {
        "id": "9D4xltSAWD0U"
      },
      "execution_count": null,
      "outputs": []
    },
    {
      "cell_type": "code",
      "source": [],
      "metadata": {
        "id": "e0TCrqMWWDxd"
      },
      "execution_count": null,
      "outputs": []
    },
    {
      "cell_type": "code",
      "source": [],
      "metadata": {
        "id": "wO-er2C8WDuW"
      },
      "execution_count": null,
      "outputs": []
    }
  ]
}